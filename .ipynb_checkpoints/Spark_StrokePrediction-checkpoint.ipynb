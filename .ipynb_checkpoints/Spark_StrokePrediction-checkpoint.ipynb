{
 "cells": [
  {
   "cell_type": "markdown",
   "id": "e31bc851",
   "metadata": {
    "id": "gUxZnsqrmynW"
   },
   "source": [
    "### Create a spark session and import the required libraries"
   ]
  },
  {
   "cell_type": "code",
   "execution_count": 1,
   "id": "ab3ba311",
   "metadata": {},
   "outputs": [],
   "source": [
    "from pyspark.sql import SparkSession\n",
    "from pyspark.sql.functions import *\n",
    "from pyspark.sql.types import *\n",
    "from pyspark.sql import functions as F"
   ]
  },
  {
   "cell_type": "code",
   "execution_count": 2,
   "id": "37b641ca",
   "metadata": {},
   "outputs": [],
   "source": [
    "spark = SparkSession.builder.appName(\"First Project\").getOrCreate()"
   ]
  },
  {
   "cell_type": "markdown",
   "id": "843b8468",
   "metadata": {
    "id": "gUxZnsqrmynW"
   },
   "source": [
    "### Create a data schema programatically"
   ]
  },
  {
   "cell_type": "code",
   "execution_count": 3,
   "id": "8616fe16",
   "metadata": {},
   "outputs": [],
   "source": [
    "customSchema = StructType([StructField('id', IntegerType(), True),\n",
    "                           StructField('gender', StringType(), True),\n",
    "                           StructField('age', DoubleType(), True),\n",
    "                           StructField('hypertension', IntegerType(), True),\n",
    "                           StructField('heart_disease', IntegerType(), True),\n",
    "                           StructField('ever_married', StringType(), True),\n",
    "                           StructField('work_type', StringType(), True),\n",
    "                           StructField('Residence_type', StringType(), True),\n",
    "                           StructField('avg_glucose_level', DoubleType(), True),\n",
    "                           StructField('bmi', DoubleType(), True),\n",
    "                           StructField('smoking_status', StringType(), True),\n",
    "                           StructField('stroke', IntegerType(), True)])"
   ]
  },
  {
   "cell_type": "markdown",
   "id": "2d00718f",
   "metadata": {
    "id": "gUxZnsqrmynW"
   },
   "source": [
    "### Read the data using the standard DataReader (Key,Value) pairs format"
   ]
  },
  {
   "cell_type": "code",
   "execution_count": 4,
   "id": "61fcc4cd",
   "metadata": {},
   "outputs": [],
   "source": [
    "df = (spark.read.format('csv')\n",
    "    .schema(customSchema)\n",
    "    .option('header','true')\n",
    "    .load(\"healthcare-dataset-stroke-data.csv\")\n",
    ")\n"
   ]
  },
  {
   "cell_type": "markdown",
   "id": "974bc193",
   "metadata": {
    "id": "gUxZnsqrmynW"
   },
   "source": [
    "### Explore the data "
   ]
  },
  {
   "cell_type": "code",
   "execution_count": 5,
   "id": "353b6f34",
   "metadata": {},
   "outputs": [
    {
     "name": "stdout",
     "output_type": "stream",
     "text": [
      "root\n",
      " |-- id: integer (nullable = true)\n",
      " |-- gender: string (nullable = true)\n",
      " |-- age: double (nullable = true)\n",
      " |-- hypertension: integer (nullable = true)\n",
      " |-- heart_disease: integer (nullable = true)\n",
      " |-- ever_married: string (nullable = true)\n",
      " |-- work_type: string (nullable = true)\n",
      " |-- Residence_type: string (nullable = true)\n",
      " |-- avg_glucose_level: double (nullable = true)\n",
      " |-- bmi: double (nullable = true)\n",
      " |-- smoking_status: string (nullable = true)\n",
      " |-- stroke: integer (nullable = true)\n",
      "\n"
     ]
    }
   ],
   "source": [
    "df.printSchema()"
   ]
  },
  {
   "cell_type": "code",
   "execution_count": 6,
   "id": "ae2be32b",
   "metadata": {},
   "outputs": [
    {
     "name": "stdout",
     "output_type": "stream",
     "text": [
      "+-----+------+----+------------+-------------+------------+-------------+--------------+-----------------+----+---------------+------+\n",
      "|   id|gender| age|hypertension|heart_disease|ever_married|    work_type|Residence_type|avg_glucose_level| bmi| smoking_status|stroke|\n",
      "+-----+------+----+------------+-------------+------------+-------------+--------------+-----------------+----+---------------+------+\n",
      "| 9046|  Male|67.0|           0|            1|         Yes|      Private|         Urban|           228.69|36.6|formerly smoked|     1|\n",
      "|51676|Female|61.0|           0|            0|         Yes|Self-employed|         Rural|           202.21|null|   never smoked|     1|\n",
      "|31112|  Male|80.0|           0|            1|         Yes|      Private|         Rural|           105.92|32.5|   never smoked|     1|\n",
      "|60182|Female|49.0|           0|            0|         Yes|      Private|         Urban|           171.23|34.4|         smokes|     1|\n",
      "| 1665|Female|79.0|           1|            0|         Yes|Self-employed|         Rural|           174.12|24.0|   never smoked|     1|\n",
      "|56669|  Male|81.0|           0|            0|         Yes|      Private|         Urban|           186.21|29.0|formerly smoked|     1|\n",
      "|53882|  Male|74.0|           1|            1|         Yes|      Private|         Rural|            70.09|27.4|   never smoked|     1|\n",
      "|10434|Female|69.0|           0|            0|          No|      Private|         Urban|            94.39|22.8|   never smoked|     1|\n",
      "|27419|Female|59.0|           0|            0|         Yes|      Private|         Rural|            76.15|null|        Unknown|     1|\n",
      "|60491|Female|78.0|           0|            0|         Yes|      Private|         Urban|            58.57|24.2|        Unknown|     1|\n",
      "+-----+------+----+------------+-------------+------------+-------------+--------------+-----------------+----+---------------+------+\n",
      "only showing top 10 rows\n",
      "\n"
     ]
    }
   ],
   "source": [
    "df.show(10)"
   ]
  },
  {
   "cell_type": "code",
   "execution_count": 7,
   "id": "66d40eed",
   "metadata": {},
   "outputs": [
    {
     "name": "stdout",
     "output_type": "stream",
     "text": [
      "+---+------+---+------------+-------------+------------+---------+--------------+-----------------+---+--------------+------+\n",
      "| id|gender|age|hypertension|heart_disease|ever_married|work_type|Residence_type|avg_glucose_level|bmi|smoking_status|stroke|\n",
      "+---+------+---+------------+-------------+------------+---------+--------------+-----------------+---+--------------+------+\n",
      "|  0|     0|  0|           0|            0|           0|        0|             0|                0|201|             0|     0|\n",
      "+---+------+---+------------+-------------+------------+---------+--------------+-----------------+---+--------------+------+\n",
      "\n"
     ]
    }
   ],
   "source": [
    "df.select([count(when(isnull(column),1)).alias(column)for column in df.columns]).show()"
   ]
  },
  {
   "cell_type": "code",
   "execution_count": 8,
   "id": "6fb198f0",
   "metadata": {},
   "outputs": [],
   "source": [
    "import pandas as pd\n",
    "import seaborn as sns\n",
    "import matplotlib.pyplot as plt"
   ]
  },
  {
   "cell_type": "code",
   "execution_count": 9,
   "id": "977b1754",
   "metadata": {},
   "outputs": [
    {
     "data": {
      "text/plain": [
       "<AxesSubplot:xlabel='stroke'>"
      ]
     },
     "execution_count": 9,
     "metadata": {},
     "output_type": "execute_result"
    },
    {
     "data": {
      "image/png": "[encoded data removed]",
      "text/plain": [
       "<Figure size 432x288 with 1 Axes>"
      ]
     },
     "metadata": {
      "needs_background": "light"
     },
     "output_type": "display_data"
    }
   ],
   "source": [
    "dfPandas = df.groupBy('stroke').count().toPandas()\n",
    "dfPandas.plot.bar(x='stroke', y='count', rot=0)"
   ]
  },
  {
   "cell_type": "code",
   "execution_count": 10,
   "id": "50caffe0",
   "metadata": {},
   "outputs": [
    {
     "data": {
      "text/plain": [
       "<AxesSubplot:xlabel='gender', ylabel='age'>"
      ]
     },
     "execution_count": 10,
     "metadata": {},
     "output_type": "execute_result"
    },
    {
     "data": {
      "image/png": "[encoded data removed]",
      "text/plain": [
       "<Figure size 432x288 with 1 Axes>"
      ]
     },
     "metadata": {
      "needs_background": "light"
     },
     "output_type": "display_data"
    }
   ],
   "source": [
    "dfPandas = df.select('gender','age','stroke').toPandas()\n",
    "dfPandas = dfPandas[dfPandas['stroke']==1]\n",
    "sns.boxplot(x='gender',y='age',data=dfPandas)"
   ]
  },
  {
   "cell_type": "code",
   "execution_count": 11,
   "id": "ed40fb11",
   "metadata": {
    "scrolled": false
   },
   "outputs": [
    {
     "name": "stdout",
     "output_type": "stream",
     "text": [
      "+-------+------------------+\n",
      "|summary|               age|\n",
      "+-------+------------------+\n",
      "|  count|              5110|\n",
      "|   mean|43.226614481409015|\n",
      "| stddev| 22.61264672311348|\n",
      "|    min|              0.08|\n",
      "|    25%|              25.0|\n",
      "|    50%|              45.0|\n",
      "|    75%|              61.0|\n",
      "|    max|              82.0|\n",
      "+-------+------------------+\n",
      "\n"
     ]
    }
   ],
   "source": [
    "df.select('age').summary().show()"
   ]
  },
  {
   "cell_type": "markdown",
   "id": "9cf74e5b",
   "metadata": {
    "id": "HQFPKukRLzbB"
   },
   "source": [
    "### Remove rows with age below 2 years old\n"
   ]
  },
  {
   "cell_type": "code",
   "execution_count": 12,
   "id": "cc99c0be",
   "metadata": {},
   "outputs": [
    {
     "name": "stdout",
     "output_type": "stream",
     "text": [
      "+-------+------------------+\n",
      "|summary|               age|\n",
      "+-------+------------------+\n",
      "|  count|              4990|\n",
      "|   mean| 44.23907815631262|\n",
      "| stddev|21.908077881917443|\n",
      "|    min|               2.0|\n",
      "|    25%|              27.0|\n",
      "|    50%|              45.0|\n",
      "|    75%|              61.0|\n",
      "|    max|              82.0|\n",
      "+-------+------------------+\n",
      "\n"
     ]
    }
   ],
   "source": [
    "df = df.filter(df.age >= 2)\n",
    "df.select('age').summary().show()"
   ]
  },
  {
   "cell_type": "code",
   "execution_count": 13,
   "id": "da7b22b9",
   "metadata": {},
   "outputs": [
    {
     "name": "stdout",
     "output_type": "stream",
     "text": [
      "+------+---------------+\n",
      "|gender| smoking_status|\n",
      "+------+---------------+\n",
      "|  Male|formerly smoked|\n",
      "|Female|   never smoked|\n",
      "|  Male|   never smoked|\n",
      "|Female|         smokes|\n",
      "|Female|   never smoked|\n",
      "|  Male|formerly smoked|\n",
      "|  Male|   never smoked|\n",
      "|Female|   never smoked|\n",
      "|Female|        Unknown|\n",
      "|Female|        Unknown|\n",
      "|Female|   never smoked|\n",
      "|Female|         smokes|\n",
      "|Female|         smokes|\n",
      "|  Male|        Unknown|\n",
      "|Female|   never smoked|\n",
      "|Female|   never smoked|\n",
      "|  Male|         smokes|\n",
      "|  Male|         smokes|\n",
      "|Female|   never smoked|\n",
      "|  Male|        Unknown|\n",
      "+------+---------------+\n",
      "only showing top 20 rows\n",
      "\n"
     ]
    }
   ],
   "source": [
    "df.select('gender','smoking_status').show()"
   ]
  },
  {
   "cell_type": "code",
   "execution_count": 14,
   "id": "925a5ecd",
   "metadata": {},
   "outputs": [
    {
     "name": "stdout",
     "output_type": "stream",
     "text": [
      "+------+\n",
      "|gender|\n",
      "+------+\n",
      "|Female|\n",
      "| Other|\n",
      "|  Male|\n",
      "+------+\n",
      "\n"
     ]
    }
   ],
   "source": [
    "df.select('gender').distinct().show()"
   ]
  },
  {
   "cell_type": "code",
   "execution_count": 15,
   "id": "9dfe35a4",
   "metadata": {},
   "outputs": [
    {
     "name": "stdout",
     "output_type": "stream",
     "text": [
      "+---------------+\n",
      "| smoking_status|\n",
      "+---------------+\n",
      "|         smokes|\n",
      "|        Unknown|\n",
      "|   never smoked|\n",
      "|formerly smoked|\n",
      "+---------------+\n",
      "\n"
     ]
    }
   ],
   "source": [
    "df.select('smoking_status').distinct().show()"
   ]
  },
  {
   "cell_type": "markdown",
   "id": "850bdfe1",
   "metadata": {
    "id": "HQFPKukRLzbB"
   },
   "source": [
    "### Change the string values of the columns into numerical values as follows:\n",
    "1. Gender column:\n",
    "  * Male = 1 \n",
    "  * Female = 0 \n",
    "  * Other = 0 \n",
    "2. Smoking Status column:\n",
    "  * never smoked = 0\n",
    "  * Unknown = 0.5\n",
    "  * formerly smoked = 0.75\n",
    "  * smokes = 1.0\n"
   ]
  },
  {
   "cell_type": "code",
   "execution_count": 16,
   "id": "1c2a3bd3",
   "metadata": {},
   "outputs": [
    {
     "name": "stdout",
     "output_type": "stream",
     "text": [
      "+------+\n",
      "|gender|\n",
      "+------+\n",
      "|  Male|\n",
      "|Female|\n",
      "|  Male|\n",
      "|Female|\n",
      "|Female|\n",
      "+------+\n",
      "only showing top 5 rows\n",
      "\n"
     ]
    }
   ],
   "source": [
    "df.select('gender').show(5)"
   ]
  },
  {
   "cell_type": "code",
   "execution_count": 17,
   "id": "355f2ef0",
   "metadata": {},
   "outputs": [
    {
     "name": "stdout",
     "output_type": "stream",
     "text": [
      "+------+\n",
      "|gender|\n",
      "+------+\n",
      "|     1|\n",
      "|     0|\n",
      "|     1|\n",
      "|     0|\n",
      "|     0|\n",
      "+------+\n",
      "only showing top 5 rows\n",
      "\n"
     ]
    }
   ],
   "source": [
    "df = df.withColumn(\"gender\",F.when(col('gender')=='Male',1).otherwise(0))\n",
    "df.select('gender').show(5)"
   ]
  },
  {
   "cell_type": "code",
   "execution_count": 18,
   "id": "9423c5e0",
   "metadata": {},
   "outputs": [
    {
     "name": "stdout",
     "output_type": "stream",
     "text": [
      "+---------------+\n",
      "| smoking_status|\n",
      "+---------------+\n",
      "|formerly smoked|\n",
      "|   never smoked|\n",
      "|   never smoked|\n",
      "|         smokes|\n",
      "|   never smoked|\n",
      "+---------------+\n",
      "only showing top 5 rows\n",
      "\n"
     ]
    }
   ],
   "source": [
    "df.select('smoking_status').show(5)"
   ]
  },
  {
   "cell_type": "code",
   "execution_count": 19,
   "id": "45a991c3",
   "metadata": {},
   "outputs": [
    {
     "name": "stdout",
     "output_type": "stream",
     "text": [
      "+--------------+\n",
      "|smoking_status|\n",
      "+--------------+\n",
      "|          0.75|\n",
      "|           0.0|\n",
      "|           0.0|\n",
      "|           1.0|\n",
      "|           0.0|\n",
      "+--------------+\n",
      "only showing top 5 rows\n",
      "\n"
     ]
    }
   ],
   "source": [
    "df = df.withColumn(\"smoking_status\",F.when(col('smoking_status')=='never smoked',0)\n",
    "                   .when(col('smoking_status')=='Unknown',0.5)\n",
    "                   .when(col('smoking_status')=='formerly smoked',0.75)\n",
    "                   .otherwise(1))\n",
    "df.select('smoking_status').show(5)"
   ]
  },
  {
   "cell_type": "code",
   "execution_count": 20,
   "id": "7df0cf29",
   "metadata": {},
   "outputs": [
    {
     "name": "stdout",
     "output_type": "stream",
     "text": [
      "+------+--------------+\n",
      "|gender|smoking_status|\n",
      "+------+--------------+\n",
      "|     1|          0.75|\n",
      "|     0|           0.0|\n",
      "|     1|           0.0|\n",
      "|     0|           1.0|\n",
      "|     0|           0.0|\n",
      "|     1|          0.75|\n",
      "|     1|           0.0|\n",
      "|     0|           0.0|\n",
      "|     0|           0.5|\n",
      "|     0|           0.5|\n",
      "|     0|           0.0|\n",
      "|     0|           1.0|\n",
      "|     0|           1.0|\n",
      "|     1|           0.5|\n",
      "|     0|           0.0|\n",
      "|     0|           0.0|\n",
      "|     1|           1.0|\n",
      "|     1|           1.0|\n",
      "|     0|           0.0|\n",
      "|     1|           0.5|\n",
      "+------+--------------+\n",
      "only showing top 20 rows\n",
      "\n"
     ]
    }
   ],
   "source": [
    "df.select('gender','smoking_status').show()"
   ]
  },
  {
   "cell_type": "markdown",
   "id": "89ce3b77",
   "metadata": {},
   "source": [
    "### Deal with null values"
   ]
  },
  {
   "cell_type": "code",
   "execution_count": 21,
   "id": "d5854671",
   "metadata": {},
   "outputs": [
    {
     "name": "stdout",
     "output_type": "stream",
     "text": [
      "+-------+------------------+\n",
      "|summary|               bmi|\n",
      "+-------+------------------+\n",
      "|  count|              4795|\n",
      "|   mean|29.140855057351413|\n",
      "| stddev| 7.765248721877016|\n",
      "|    min|              11.3|\n",
      "|    25%|              23.9|\n",
      "|    50%|              28.3|\n",
      "|    75%|              33.2|\n",
      "|    max|              97.6|\n",
      "+-------+------------------+\n",
      "\n"
     ]
    }
   ],
   "source": [
    "df.select(\"bmi\").summary().show()"
   ]
  },
  {
   "cell_type": "code",
   "execution_count": 22,
   "id": "4d78cb87",
   "metadata": {},
   "outputs": [],
   "source": [
    "bmi_50 = float(df.select(\"bmi\").summary().collect()[5][1])"
   ]
  },
  {
   "cell_type": "code",
   "execution_count": 23,
   "id": "c14d1ca1",
   "metadata": {},
   "outputs": [],
   "source": [
    "df = df.fillna(bmi_50, subset=['bmi'])"
   ]
  },
  {
   "cell_type": "markdown",
   "id": "053c429a",
   "metadata": {},
   "source": [
    "### Split the data into training and test dataframes:\n",
    "- 80% training and 20% test.\n",
    "- seed = 42.\n",
    "- Save each dataframe as a parquet file"
   ]
  },
  {
   "cell_type": "code",
   "execution_count": 24,
   "id": "0236ea8b",
   "metadata": {},
   "outputs": [],
   "source": [
    "trainDF,testDF = df.randomSplit([0.8,0.2],seed=42)"
   ]
  },
  {
   "cell_type": "code",
   "execution_count": 25,
   "id": "710eadb4",
   "metadata": {},
   "outputs": [
    {
     "data": {
      "text/plain": [
       "4037"
      ]
     },
     "execution_count": 25,
     "metadata": {},
     "output_type": "execute_result"
    }
   ],
   "source": [
    "trainDF.count()"
   ]
  },
  {
   "cell_type": "code",
   "execution_count": 26,
   "id": "0ac0e022",
   "metadata": {},
   "outputs": [
    {
     "data": {
      "text/plain": [
       "953"
      ]
     },
     "execution_count": 26,
     "metadata": {},
     "output_type": "execute_result"
    }
   ],
   "source": [
    "testDF.count()"
   ]
  },
  {
   "cell_type": "code",
   "execution_count": 27,
   "id": "cf045944",
   "metadata": {},
   "outputs": [],
   "source": [
    "trainDF.write.parquet(\"trainDF\")"
   ]
  },
  {
   "cell_type": "code",
   "execution_count": 28,
   "id": "ec3f29ae",
   "metadata": {},
   "outputs": [],
   "source": [
    "testDF.write.parquet(\"testDF\")"
   ]
  },
  {
   "cell_type": "markdown",
   "id": "78fa24da",
   "metadata": {},
   "source": [
    "### Read the saved Train and Test DataFrame:\n",
    "- Use the dataframes you read in the subsequent steps."
   ]
  },
  {
   "cell_type": "code",
   "execution_count": 29,
   "id": "c3f5c1e3",
   "metadata": {},
   "outputs": [
    {
     "data": {
      "text/plain": [
       "4037"
      ]
     },
     "execution_count": 29,
     "metadata": {},
     "output_type": "execute_result"
    }
   ],
   "source": [
    "trainDF1 = spark.read.parquet(\"trainDF\")\n",
    "trainDF1.count()"
   ]
  },
  {
   "cell_type": "code",
   "execution_count": 30,
   "id": "77ae6495",
   "metadata": {},
   "outputs": [
    {
     "data": {
      "text/plain": [
       "953"
      ]
     },
     "execution_count": 30,
     "metadata": {},
     "output_type": "execute_result"
    }
   ],
   "source": [
    "testDF1 = spark.read.parquet(\"testDF\")\n",
    "testDF1.count()"
   ]
  },
  {
   "cell_type": "markdown",
   "id": "987b4b40",
   "metadata": {},
   "source": [
    "### Create the model:\n",
    "- Perform feature engineering steps.\n",
    "- Create the logistic regression classifier.\n",
    "- Build the pipeline model that uses all feature engineering steps and the model.\n",
    "- Train the pipeline model using the trainig dataset."
   ]
  },
  {
   "cell_type": "code",
   "execution_count": 31,
   "id": "353c5d9a",
   "metadata": {},
   "outputs": [
    {
     "data": {
      "text/plain": [
       "['hypertension',\n",
       " 'heart_disease',\n",
       " 'ever_married',\n",
       " 'work_type',\n",
       " 'Residence_type']"
      ]
     },
     "execution_count": 31,
     "metadata": {},
     "output_type": "execute_result"
    }
   ],
   "source": [
    "categoricalCols = ['hypertension','heart_disease',\n",
    "                   'ever_married', 'work_type', 'Residence_type']\n",
    "categoricalCols"
   ]
  },
  {
   "cell_type": "code",
   "execution_count": 32,
   "id": "3ec0842c",
   "metadata": {},
   "outputs": [
    {
     "data": {
      "text/plain": [
       "['gender', 'age', 'avg_glucose_level', 'bmi', 'smoking_status']"
      ]
     },
     "execution_count": 32,
     "metadata": {},
     "output_type": "execute_result"
    }
   ],
   "source": [
    "numericCols = ['gender','age','avg_glucose_level',\n",
    "               'bmi','smoking_status']\n",
    "numericCols"
   ]
  },
  {
   "cell_type": "code",
   "execution_count": 33,
   "id": "3518527f",
   "metadata": {},
   "outputs": [
    {
     "data": {
      "text/plain": [
       "['hypertension_Index',\n",
       " 'heart_disease_Index',\n",
       " 'ever_married_Index',\n",
       " 'work_type_Index',\n",
       " 'Residence_type_Index']"
      ]
     },
     "execution_count": 33,
     "metadata": {},
     "output_type": "execute_result"
    }
   ],
   "source": [
    "indexOutputCols = [x + \"_Index\" for x in categoricalCols]\n",
    "indexOutputCols"
   ]
  },
  {
   "cell_type": "code",
   "execution_count": 34,
   "id": "02dc06d0",
   "metadata": {},
   "outputs": [
    {
     "data": {
      "text/plain": [
       "['hypertension_OHE',\n",
       " 'heart_disease_OHE',\n",
       " 'ever_married_OHE',\n",
       " 'work_type_OHE',\n",
       " 'Residence_type_OHE']"
      ]
     },
     "execution_count": 34,
     "metadata": {},
     "output_type": "execute_result"
    }
   ],
   "source": [
    "oheOutputCols = [x + \"_OHE\" for x in categoricalCols]\n",
    "oheOutputCols"
   ]
  },
  {
   "cell_type": "code",
   "execution_count": 35,
   "id": "9c9e4dc2",
   "metadata": {},
   "outputs": [
    {
     "data": {
      "text/plain": [
       "['hypertension_OHE',\n",
       " 'heart_disease_OHE',\n",
       " 'ever_married_OHE',\n",
       " 'work_type_OHE',\n",
       " 'Residence_type_OHE',\n",
       " 'gender',\n",
       " 'age',\n",
       " 'avg_glucose_level',\n",
       " 'bmi',\n",
       " 'smoking_status']"
      ]
     },
     "execution_count": 35,
     "metadata": {},
     "output_type": "execute_result"
    }
   ],
   "source": [
    "assemblerInputs = oheOutputCols + numericCols\n",
    "assemblerInputs"
   ]
  },
  {
   "cell_type": "code",
   "execution_count": 36,
   "id": "4e41b352",
   "metadata": {},
   "outputs": [],
   "source": [
    "from pyspark.ml.feature import StringIndexer, VectorAssembler,OneHotEncoder\n",
    "from pyspark.ml import Pipeline"
   ]
  },
  {
   "cell_type": "code",
   "execution_count": 37,
   "id": "106453d7",
   "metadata": {},
   "outputs": [],
   "source": [
    "stringIndexer = StringIndexer(inputCols=categoricalCols,\n",
    "                             outputCols=indexOutputCols,\n",
    "                             handleInvalid='skip')\n",
    "oheEncoder = OneHotEncoder(inputCols=indexOutputCols,\n",
    "                          outputCols=oheOutputCols)"
   ]
  },
  {
   "cell_type": "code",
   "execution_count": 38,
   "id": "05956f65",
   "metadata": {},
   "outputs": [],
   "source": [
    "vecAssembler = VectorAssembler(inputCols=assemblerInputs,outputCol='features')"
   ]
  },
  {
   "cell_type": "code",
   "execution_count": 39,
   "id": "1529c24b",
   "metadata": {},
   "outputs": [],
   "source": [
    "from pyspark.ml.classification import LogisticRegression\n",
    "lr = LogisticRegression(featuresCol = 'features', labelCol = 'stroke')\n",
    "pipeline = Pipeline(stages=[stringIndexer,oheEncoder,vecAssembler,lr])\n",
    "\n",
    "pipelineModel = pipeline.fit(trainDF1)"
   ]
  },
  {
   "cell_type": "markdown",
   "id": "a05c2677",
   "metadata": {},
   "source": [
    "### Perform predictions on Test DataFrame"
   ]
  },
  {
   "cell_type": "code",
   "execution_count": 40,
   "id": "38b8524f",
   "metadata": {},
   "outputs": [],
   "source": [
    "predictions = pipelineModel.transform(testDF1)"
   ]
  },
  {
   "cell_type": "code",
   "execution_count": 41,
   "id": "95d8b779",
   "metadata": {},
   "outputs": [
    {
     "name": "stdout",
     "output_type": "stream",
     "text": [
      "+-----------------------------------------------------------+\n",
      "|features                                                   |\n",
      "+-----------------------------------------------------------+\n",
      "|[1.0,1.0,1.0,1.0,0.0,0.0,0.0,1.0,1.0,55.0,89.17,31.5,0.0]  |\n",
      "|(13,[0,1,3,7,9,10,11],[1.0,1.0,1.0,1.0,24.0,97.55,26.2])   |\n",
      "|(13,[0,1,2,3,9,10,11],[1.0,1.0,1.0,1.0,33.0,86.97,42.2])   |\n",
      "|[1.0,1.0,1.0,1.0,0.0,0.0,0.0,0.0,0.0,43.0,88.23,37.6,0.5]  |\n",
      "|[1.0,1.0,1.0,1.0,0.0,0.0,0.0,1.0,1.0,79.0,198.79,24.9,0.0] |\n",
      "|(13,[0,1,2,3,9,10,11],[1.0,1.0,1.0,1.0,43.0,110.32,28.4])  |\n",
      "|(13,[1,2,4,8,9,10,11],[1.0,1.0,1.0,1.0,78.0,75.19,27.6])   |\n",
      "|[1.0,1.0,1.0,0.0,1.0,0.0,0.0,1.0,0.0,74.0,74.96,26.6,0.0]  |\n",
      "|(13,[0,1,6,9,10,11,12],[1.0,1.0,1.0,14.0,92.22,22.8,0.5])  |\n",
      "|[1.0,1.0,1.0,1.0,0.0,0.0,0.0,0.0,1.0,69.0,101.52,26.8,1.0] |\n",
      "|[1.0,1.0,1.0,0.0,0.0,1.0,0.0,0.0,1.0,52.0,87.26,40.1,1.0]  |\n",
      "|(13,[3,9,10,11,12],[1.0,82.0,84.03,26.5,0.75])             |\n",
      "|(13,[0,1,3,8,9,10,11],[1.0,1.0,1.0,1.0,17.0,81.77,44.7])   |\n",
      "|[1.0,1.0,1.0,0.0,1.0,0.0,0.0,0.0,0.0,73.0,79.69,28.3,0.75] |\n",
      "|(13,[1,2,3,9,10,11],[1.0,1.0,1.0,59.0,99.06,23.4])         |\n",
      "|[1.0,1.0,1.0,0.0,0.0,1.0,0.0,1.0,0.0,60.0,80.86,31.0,1.0]  |\n",
      "|(13,[0,1,3,7,9,10,11],[1.0,1.0,1.0,1.0,14.0,83.42,28.7])   |\n",
      "|[0.0,1.0,1.0,1.0,0.0,0.0,0.0,1.0,1.0,69.0,229.21,30.1,1.0] |\n",
      "|[1.0,1.0,1.0,0.0,0.0,1.0,0.0,1.0,1.0,70.0,202.55,28.3,0.75]|\n",
      "|(13,[0,1,3,7,9,10,11],[1.0,1.0,1.0,1.0,29.0,71.89,27.6])   |\n",
      "+-----------------------------------------------------------+\n",
      "only showing top 20 rows\n",
      "\n"
     ]
    }
   ],
   "source": [
    "predictions.select(\"features\").show(truncate=False)"
   ]
  },
  {
   "cell_type": "code",
   "execution_count": 42,
   "id": "7e71ec92",
   "metadata": {},
   "outputs": [
    {
     "name": "stdout",
     "output_type": "stream",
     "text": [
      "root\n",
      " |-- id: integer (nullable = true)\n",
      " |-- gender: integer (nullable = true)\n",
      " |-- age: double (nullable = true)\n",
      " |-- hypertension: integer (nullable = true)\n",
      " |-- heart_disease: integer (nullable = true)\n",
      " |-- ever_married: string (nullable = true)\n",
      " |-- work_type: string (nullable = true)\n",
      " |-- Residence_type: string (nullable = true)\n",
      " |-- avg_glucose_level: double (nullable = true)\n",
      " |-- bmi: double (nullable = true)\n",
      " |-- smoking_status: double (nullable = true)\n",
      " |-- stroke: integer (nullable = true)\n",
      " |-- ever_married_Index: double (nullable = false)\n",
      " |-- heart_disease_Index: double (nullable = false)\n",
      " |-- Residence_type_Index: double (nullable = false)\n",
      " |-- work_type_Index: double (nullable = false)\n",
      " |-- hypertension_Index: double (nullable = false)\n",
      " |-- ever_married_OHE: vector (nullable = true)\n",
      " |-- heart_disease_OHE: vector (nullable = true)\n",
      " |-- Residence_type_OHE: vector (nullable = true)\n",
      " |-- hypertension_OHE: vector (nullable = true)\n",
      " |-- work_type_OHE: vector (nullable = true)\n",
      " |-- features: vector (nullable = true)\n",
      " |-- rawPrediction: vector (nullable = true)\n",
      " |-- probability: vector (nullable = true)\n",
      " |-- prediction: double (nullable = false)\n",
      "\n"
     ]
    }
   ],
   "source": [
    "predictions.printSchema()"
   ]
  },
  {
   "cell_type": "code",
   "execution_count": 43,
   "id": "7a32b742",
   "metadata": {},
   "outputs": [
    {
     "name": "stdout",
     "output_type": "stream",
     "text": [
      "+------+----------+\n",
      "|stroke|prediction|\n",
      "+------+----------+\n",
      "|     0|       0.0|\n",
      "|     0|       0.0|\n",
      "|     0|       0.0|\n",
      "|     0|       0.0|\n",
      "|     0|       0.0|\n",
      "|     0|       0.0|\n",
      "|     0|       0.0|\n",
      "|     1|       0.0|\n",
      "|     0|       0.0|\n",
      "|     0|       0.0|\n",
      "|     0|       0.0|\n",
      "|     1|       0.0|\n",
      "|     0|       0.0|\n",
      "|     0|       0.0|\n",
      "|     0|       0.0|\n",
      "|     0|       0.0|\n",
      "|     0|       0.0|\n",
      "|     0|       0.0|\n",
      "|     0|       0.0|\n",
      "|     0|       0.0|\n",
      "+------+----------+\n",
      "only showing top 20 rows\n",
      "\n"
     ]
    }
   ],
   "source": [
    "predictions.select(\"stroke\",\"prediction\").show()"
   ]
  },
  {
   "cell_type": "code",
   "execution_count": 44,
   "id": "fc303d6b",
   "metadata": {},
   "outputs": [
    {
     "name": "stdout",
     "output_type": "stream",
     "text": [
      "+------+----------+\n",
      "|stroke|prediction|\n",
      "+------+----------+\n",
      "|     1|       0.0|\n",
      "|     1|       0.0|\n",
      "|     1|       0.0|\n",
      "|     1|       0.0|\n",
      "|     1|       0.0|\n",
      "|     1|       0.0|\n",
      "|     1|       0.0|\n",
      "|     1|       0.0|\n",
      "|     1|       0.0|\n",
      "|     1|       0.0|\n",
      "|     1|       0.0|\n",
      "|     1|       0.0|\n",
      "|     1|       0.0|\n",
      "|     1|       0.0|\n",
      "|     1|       0.0|\n",
      "|     1|       0.0|\n",
      "|     1|       0.0|\n",
      "|     1|       0.0|\n",
      "|     1|       0.0|\n",
      "|     1|       0.0|\n",
      "+------+----------+\n",
      "only showing top 20 rows\n",
      "\n"
     ]
    }
   ],
   "source": [
    "predictions.select(\"stroke\",\"prediction\").filter(col(\"stroke\")==1).show()"
   ]
  },
  {
   "cell_type": "code",
   "execution_count": 45,
   "id": "3ea267eb",
   "metadata": {},
   "outputs": [
    {
     "data": {
      "text/plain": [
       "0"
      ]
     },
     "execution_count": 45,
     "metadata": {},
     "output_type": "execute_result"
    }
   ],
   "source": [
    "predictions.select(\"stroke\",\"prediction\").filter(col(\"prediction\")==1).count()"
   ]
  },
  {
   "cell_type": "code",
   "execution_count": 46,
   "id": "480d892e",
   "metadata": {
    "scrolled": false
   },
   "outputs": [
    {
     "data": {
      "text/plain": [
       "953"
      ]
     },
     "execution_count": 46,
     "metadata": {},
     "output_type": "execute_result"
    }
   ],
   "source": [
    "predictions.select(\"stroke\",\"prediction\").filter(col(\"prediction\")==0).count()"
   ]
  },
  {
   "cell_type": "markdown",
   "id": "daec120f",
   "metadata": {},
   "source": [
    "### Evaluate Model Performance"
   ]
  },
  {
   "cell_type": "code",
   "execution_count": 47,
   "id": "a7b5ad25",
   "metadata": {},
   "outputs": [],
   "source": [
    "from pyspark.ml.evaluation import BinaryClassificationEvaluator"
   ]
  },
  {
   "cell_type": "code",
   "execution_count": 48,
   "id": "44d3a1e6",
   "metadata": {},
   "outputs": [],
   "source": [
    "evaluatorROC = BinaryClassificationEvaluator(rawPredictionCol='prediction'\n",
    "                                             ,labelCol='stroke')"
   ]
  },
  {
   "cell_type": "code",
   "execution_count": 49,
   "id": "3adbe41f",
   "metadata": {},
   "outputs": [
    {
     "data": {
      "text/plain": [
       "0.5"
      ]
     },
     "execution_count": 49,
     "metadata": {},
     "output_type": "execute_result"
    }
   ],
   "source": [
    "evaluatorROC.evaluate(predictions)"
   ]
  },
  {
   "cell_type": "markdown",
   "id": "40206589",
   "metadata": {},
   "source": [
    "### Improve Model Performance"
   ]
  },
  {
   "cell_type": "code",
   "execution_count": 50,
   "id": "6c323fd5",
   "metadata": {},
   "outputs": [],
   "source": [
    "total_count = trainDF1.count()\n",
    "stroke_count = trainDF1.filter(col('stroke')==1).count()"
   ]
  },
  {
   "cell_type": "code",
   "execution_count": 51,
   "id": "be76262d",
   "metadata": {},
   "outputs": [],
   "source": [
    "def get_weight(x):\n",
    "    if x==1:\n",
    "        return 1-(stroke_count*1.0/total_count)\n",
    "    else:\n",
    "        return stroke_count*1.0/total_count"
   ]
  },
  {
   "cell_type": "code",
   "execution_count": 52,
   "id": "0ce8ab43",
   "metadata": {},
   "outputs": [],
   "source": [
    "get_weightUDF = udf(lambda z:get_weight(z))   \n",
    "trainDF1 = trainDF1.withColumn(\"weightCol\", get_weightUDF(F.col(\"stroke\")))\n",
    "trainDF1 = trainDF1.withColumn(\"weightCol\",col(\"weightCol\").cast(DoubleType()))"
   ]
  },
  {
   "cell_type": "code",
   "execution_count": 53,
   "id": "4fdb5f45",
   "metadata": {},
   "outputs": [
    {
     "name": "stdout",
     "output_type": "stream",
     "text": [
      "+------+-------------------+\n",
      "|stroke|          weightCol|\n",
      "+------+-------------------+\n",
      "|     0|0.05003715630418628|\n",
      "|     0|0.05003715630418628|\n",
      "|     0|0.05003715630418628|\n",
      "|     0|0.05003715630418628|\n",
      "|     0|0.05003715630418628|\n",
      "|     0|0.05003715630418628|\n",
      "|     0|0.05003715630418628|\n",
      "|     0|0.05003715630418628|\n",
      "|     0|0.05003715630418628|\n",
      "|     0|0.05003715630418628|\n",
      "|     1| 0.9499628436958137|\n",
      "|     0|0.05003715630418628|\n",
      "|     0|0.05003715630418628|\n",
      "|     0|0.05003715630418628|\n",
      "|     0|0.05003715630418628|\n",
      "|     0|0.05003715630418628|\n",
      "|     0|0.05003715630418628|\n",
      "|     0|0.05003715630418628|\n",
      "|     0|0.05003715630418628|\n",
      "|     0|0.05003715630418628|\n",
      "+------+-------------------+\n",
      "only showing top 20 rows\n",
      "\n"
     ]
    }
   ],
   "source": [
    "trainDF1.select(\"stroke\",\"weightCol\").show()"
   ]
  },
  {
   "cell_type": "code",
   "execution_count": 54,
   "id": "00e034e9",
   "metadata": {},
   "outputs": [],
   "source": [
    "from pyspark.ml.classification import LogisticRegression\n",
    "lr = LogisticRegression(featuresCol = 'features', labelCol = 'stroke',weightCol='weightCol')\n",
    "pipeline = Pipeline(stages=[stringIndexer,oheEncoder,vecAssembler,lr])\n",
    "\n",
    "pipelineModel = pipeline.fit(trainDF1)"
   ]
  },
  {
   "cell_type": "code",
   "execution_count": 55,
   "id": "66efa0c6",
   "metadata": {},
   "outputs": [],
   "source": [
    "predictions_w = pipelineModel.transform(testDF1)"
   ]
  },
  {
   "cell_type": "code",
   "execution_count": 56,
   "id": "b3cfb670",
   "metadata": {},
   "outputs": [
    {
     "data": {
      "text/plain": [
       "0.7757777671252577"
      ]
     },
     "execution_count": 56,
     "metadata": {},
     "output_type": "execute_result"
    }
   ],
   "source": [
    "evaluatorROC.evaluate(predictions_w)"
   ]
  }
 ],
 "metadata": {
  "kernelspec": {
   "display_name": "Python 3",
   "language": "python",
   "name": "python3"
  },
  "language_info": {
   "codemirror_mode": {
    "name": "ipython",
    "version": 3
   },
   "file_extension": ".py",
   "mimetype": "text/x-python",
   "name": "python",
   "nbconvert_exporter": "python",
   "pygments_lexer": "ipython3",
   "version": "3.8.8"
  }
 },
 "nbformat": 4,
 "nbformat_minor": 5
}
